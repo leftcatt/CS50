{
  "nbformat": 4,
  "nbformat_minor": 0,
  "metadata": {
    "colab": {
      "provenance": [],
      "authorship_tag": "ABX9TyO1wRDJ43dQpCQqAdAQQ4uU",
      "include_colab_link": true
    },
    "kernelspec": {
      "name": "python3",
      "display_name": "Python 3"
    },
    "language_info": {
      "name": "python"
    },
    "accelerator": "TPU",
    "gpuClass": "standard"
  },
  "cells": [
    {
      "cell_type": "markdown",
      "metadata": {
        "id": "view-in-github",
        "colab_type": "text"
      },
      "source": [
        "<a href=\"https://colab.research.google.com/github/leftcatt/cs50/blob/main/deeplearning04.ipynb\" target=\"_parent\"><img src=\"https://colab.research.google.com/assets/colab-badge.svg\" alt=\"Open In Colab\"/></a>"
      ]
    },
    {
      "cell_type": "code",
      "execution_count": null,
      "metadata": {
        "id": "jtu3bnHZxsxC"
      },
      "outputs": [],
      "source": [
        "import pandas as pd\n",
        "import numpy as np\n",
        "data = pd.read_csv(\"https://raw.githubusercontent.com/jbrownlee/Datasets/master/glass.csv\", header = None)\n",
        "data.iloc[:,9] = np.where(data.iloc[:,9] > 2, 1, 0)\n",
        "data.head()\n",
        "\n"
      ]
    },
    {
      "cell_type": "code",
      "source": [
        "y = data.iloc[:,9].values\n",
        "X = data.iloc[:,0:9].values"
      ],
      "metadata": {
        "id": "uw4fHIuF2Nb7"
      },
      "execution_count": 19,
      "outputs": []
    },
    {
      "cell_type": "code",
      "source": [
        "from sklearn.model_selection import train_test_split\n",
        "X_train, X_test, y_train, y_test = train_test_split(X , y, test_size=0.2, random_state=1)"
      ],
      "metadata": {
        "id": "IeNs9Di9205k"
      },
      "execution_count": 21,
      "outputs": []
    },
    {
      "cell_type": "code",
      "source": [
        "!pip install scikeras[tensorflow]"
      ],
      "metadata": {
        "id": "gJO97ymP3-3x"
      },
      "execution_count": null,
      "outputs": []
    },
    {
      "cell_type": "code",
      "source": [
        "from sklearn.model_selection import GridSearchCV\n",
        "from scikeras.wrappers import KerasClassifier\n",
        "from keras.models import Sequential\n",
        "from keras.layers import Dense"
      ],
      "metadata": {
        "id": "RgmmXXix4IPM"
      },
      "execution_count": 9,
      "outputs": []
    },
    {
      "cell_type": "code",
      "source": [
        "def create_model():\n",
        " # create model\n",
        " model = Sequential()\n",
        " model.add(Dense(units=20, input_dim=X_train.shape[1], activation='relu'))\n",
        " model.add(Dense(units=20, activation='relu'))\n",
        " model.add(Dense(units=1, activation='sigmoid'))\n",
        " # Compile model\n",
        " model.compile(loss='binary_crossentropy', optimizer='adam', metrics=['accuracy'])\n",
        " return model\n"
      ],
      "metadata": {
        "id": "WrEcrerq48Jj"
      },
      "execution_count": 10,
      "outputs": []
    },
    {
      "cell_type": "code",
      "source": [
        "model = KerasClassifier(model=create_model, verbose=0)"
      ],
      "metadata": {
        "id": "XBqHz8P36Hw-"
      },
      "execution_count": 11,
      "outputs": []
    },
    {
      "cell_type": "code",
      "source": [
        "batch_size = [10, 20, 40, 60, 80, 100]\n",
        "epochs = [10, 50, 100]\n"
      ],
      "metadata": {
        "id": "QfUxD8Pg6TF9"
      },
      "execution_count": 14,
      "outputs": []
    },
    {
      "cell_type": "code",
      "source": [
        "param_grid = dict(batch_size=batch_size, epochs=epochs)"
      ],
      "metadata": {
        "id": "xEkQCT527B-l"
      },
      "execution_count": 15,
      "outputs": []
    },
    {
      "cell_type": "code",
      "source": [
        "grid = GridSearchCV(estimator=model, param_grid=param_grid, n_jobs=-1, cv=3)"
      ],
      "metadata": {
        "id": "onCCzcmC7Pr-"
      },
      "execution_count": 16,
      "outputs": []
    },
    {
      "cell_type": "code",
      "source": [
        "grid_result = grid.fit(X_train, y_train)"
      ],
      "metadata": {
        "id": "axTiG57b7kv7"
      },
      "execution_count": 22,
      "outputs": []
    },
    {
      "cell_type": "code",
      "source": [
        "print(\"Best: %f using %s\" % (grid_result.best_score_, grid_result.best_params_))\n",
        "means = grid_result.cv_results_['mean_test_score']\n",
        "stds = grid_result.cv_results_['std_test_score']\n",
        "params = grid_result.cv_results_['params']\n",
        "for mean, stdev, param in zip(means, stds, params):\n",
        "    print(\"%f (%f) with: %r\" % (mean, stdev, param))\n"
      ],
      "metadata": {
        "colab": {
          "base_uri": "https://localhost:8080/"
        },
        "id": "D-od-Mvz8GYz",
        "outputId": "d7c06371-bd73-44ad-cfae-66041beed2a7"
      },
      "execution_count": 23,
      "outputs": [
        {
          "output_type": "stream",
          "name": "stdout",
          "text": [
            "Best: 0.865497 using {'batch_size': 10, 'epochs': 100}\n",
            "0.736842 (0.042974) with: {'batch_size': 10, 'epochs': 10}\n",
            "0.859649 (0.024811) with: {'batch_size': 10, 'epochs': 50}\n",
            "0.865497 (0.029819) with: {'batch_size': 10, 'epochs': 100}\n",
            "0.672515 (0.008270) with: {'batch_size': 20, 'epochs': 10}\n",
            "0.766082 (0.036049) with: {'batch_size': 20, 'epochs': 50}\n",
            "0.865497 (0.029819) with: {'batch_size': 20, 'epochs': 100}\n",
            "0.637427 (0.029819) with: {'batch_size': 40, 'epochs': 10}\n",
            "0.783626 (0.073508) with: {'batch_size': 40, 'epochs': 50}\n",
            "0.836257 (0.016541) with: {'batch_size': 40, 'epochs': 100}\n",
            "0.561404 (0.161429) with: {'batch_size': 60, 'epochs': 10}\n",
            "0.678363 (0.008270) with: {'batch_size': 60, 'epochs': 50}\n",
            "0.842105 (0.014325) with: {'batch_size': 60, 'epochs': 100}\n",
            "0.561404 (0.161429) with: {'batch_size': 80, 'epochs': 10}\n",
            "0.678363 (0.008270) with: {'batch_size': 80, 'epochs': 50}\n",
            "0.847953 (0.041351) with: {'batch_size': 80, 'epochs': 100}\n",
            "0.561404 (0.161429) with: {'batch_size': 100, 'epochs': 10}\n",
            "0.690058 (0.021881) with: {'batch_size': 100, 'epochs': 50}\n",
            "0.742690 (0.072098) with: {'batch_size': 100, 'epochs': 100}\n"
          ]
        }
      ]
    }
  ]
}